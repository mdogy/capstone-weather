{
 "cells": [
  {
   "cell_type": "code",
   "execution_count": 1,
   "metadata": {},
   "outputs": [],
   "source": [
    "import numpy as np\n",
    "import matplotlib.pyplot as plt\n",
    "import pylab as pl\n",
    "import matplotlib.animation as animation\n",
    "\n",
    "import seaborn as sns;\n",
    "from skimage.transform import rescale, resize, downscale_local_mean\n",
    "\n",
    "from sklearn import datasets, linear_model\n",
    "from sklearn.metrics import mean_squared_error, r2_score\n",
    "\n",
    "import pandas as pd\n",
    "import cv2 \n",
    "from sklearn.metrics import confusion_matrix"
   ]
  },
  {
   "cell_type": "code",
   "execution_count": 2,
   "metadata": {},
   "outputs": [],
   "source": [
    "from PIL import Image\n",
    "import glob\n",
    "image_listA1 = []\n",
    "\n",
    "for filename in sorted(glob.glob('/Users/Airton/Desktop/Data/A/*A1.png')):\n",
    "    im=Image.open(filename).convert('L')\n",
    "    image_listA1.append(np.array(im).flatten())"
   ]
  },
  {
   "cell_type": "code",
   "execution_count": 3,
   "metadata": {},
   "outputs": [],
   "source": [
    "image_listA2 = []\n",
    "\n",
    "for filename in sorted(glob.glob('/Users/Airton/Desktop/Data/A/*A2.png')):\n",
    "    im=Image.open(filename).convert('L')\n",
    "    image_listA2.append(np.array(im).flatten())"
   ]
  },
  {
   "cell_type": "code",
   "execution_count": 4,
   "metadata": {},
   "outputs": [],
   "source": [
    "image_listA3 = []\n",
    "\n",
    "for filename in sorted(glob.glob('/Users/Airton/Desktop/Data/A/*A3.png')):\n",
    "    im=Image.open(filename).convert('L')\n",
    "    image_listA3.append(np.array(im).flatten())"
   ]
  },
  {
   "cell_type": "code",
   "execution_count": 5,
   "metadata": {},
   "outputs": [],
   "source": [
    "image_listA4 = []\n",
    "\n",
    "for filename in sorted(glob.glob('/Users/Airton/Desktop/Data/A/*A4.png')):\n",
    "    im=Image.open(filename).convert('L')\n",
    "    image_listA4.append(np.array(im).flatten())"
   ]
  },
  {
   "cell_type": "code",
   "execution_count": 6,
   "metadata": {},
   "outputs": [],
   "source": [
    "image_listA5 = []\n",
    "\n",
    "for filename in sorted(glob.glob('/Users/Airton/Desktop/Data/A/*A5.png')):\n",
    "    im=Image.open(filename).convert('L')\n",
    "    image_listA5.append(np.array(im).flatten())"
   ]
  },
  {
   "cell_type": "code",
   "execution_count": 7,
   "metadata": {},
   "outputs": [],
   "source": [
    "image_listA6 = []\n",
    "\n",
    "for filename in sorted(glob.glob('/Users/Airton/Desktop/Data/A/*A6.png')):\n",
    "    im=Image.open(filename).convert('L')\n",
    "    image_listA6.append(np.array(im).flatten())"
   ]
  },
  {
   "cell_type": "code",
   "execution_count": 8,
   "metadata": {},
   "outputs": [],
   "source": [
    "image_listB1 = []\n",
    "\n",
    "for filename in sorted(glob.glob('/Users/Airton/Desktop/Data/B/*B1.png')):\n",
    "    im=Image.open(filename).convert('L')\n",
    "    image_listB1.append(np.array(im).flatten())"
   ]
  },
  {
   "cell_type": "code",
   "execution_count": null,
   "metadata": {},
   "outputs": [],
   "source": [
    "print(type(image_listA1[0]))"
   ]
  },
  {
   "cell_type": "code",
   "execution_count": null,
   "metadata": {},
   "outputs": [],
   "source": [
    "print(len(image_listB1))\n",
    "print(len(image_listA1))\n",
    "print(image_listA1[0][65535])"
   ]
  },
  {
   "cell_type": "code",
   "execution_count": null,
   "metadata": {},
   "outputs": [],
   "source": [
    "plt.imshow(image_listA1[0].reshape(256,256),cmap=\"gray\")\n",
    "plt.show()"
   ]
  },
  {
   "cell_type": "code",
   "execution_count": null,
   "metadata": {},
   "outputs": [],
   "source": [
    "plt.imshow(image_listA6[0])\n",
    "plt.show()"
   ]
  },
  {
   "cell_type": "code",
   "execution_count": null,
   "metadata": {},
   "outputs": [],
   "source": [
    "plt.imshow(image_listB1[0])\n",
    "plt.show()"
   ]
  },
  {
   "cell_type": "code",
   "execution_count": 9,
   "metadata": {},
   "outputs": [],
   "source": [
    "Inputs = []\n",
    "Radar = []\n",
    "for i in range(len(image_listA1)):\n",
    "    for j in range(len(image_listA1[0])):\n",
    "        x = []\n",
    "        x.append(image_listA1[i][j])\n",
    "        x.append(image_listA2[i][j])\n",
    "        x.append(image_listA3[i][j])\n",
    "        x.append(image_listA4[i][j])\n",
    "        x.append(image_listA5[i][j])\n",
    "        x.append(image_listA6[i][j])\n",
    "        \n",
    "        Radar.append(image_listB1[i][j])\n",
    "        \n",
    "        Inputs.append(x)"
   ]
  },
  {
   "cell_type": "code",
   "execution_count": 10,
   "metadata": {},
   "outputs": [],
   "source": [
    "Inputs = np.array(Inputs)\n",
    "Radar = np.array(Radar)"
   ]
  },
  {
   "cell_type": "code",
   "execution_count": 29,
   "metadata": {},
   "outputs": [
    {
     "name": "stdout",
     "output_type": "stream",
     "text": [
      "(3735552, 6)\n",
      "(3735552,)\n"
     ]
    }
   ],
   "source": [
    "print(Inputs.shape)\n",
    "print(Radar.shape)"
   ]
  },
  {
   "cell_type": "code",
   "execution_count": null,
   "metadata": {
    "scrolled": true
   },
   "outputs": [],
   "source": [
    "Input = np.concatenate((image_listA1,image_listA2,image_listA3,image_listA4,image_listA5,image_listA6),axis=1)\n",
    "print(len(Input[0]))"
   ]
  },
  {
   "cell_type": "code",
   "execution_count": null,
   "metadata": {},
   "outputs": [],
   "source": [
    "plt.imshow(Input[0])\n",
    "plt.show()"
   ]
  },
  {
   "cell_type": "code",
   "execution_count": null,
   "metadata": {},
   "outputs": [],
   "source": [
    "print((Input[0][1]))"
   ]
  },
  {
   "cell_type": "code",
   "execution_count": null,
   "metadata": {},
   "outputs": [],
   "source": [
    "flattened_listt = []\n",
    "for index in range(len(Input)):\n",
    "    for pixel in range(256): \n",
    "        flattened = Input[index][pixel].flatten()\n",
    "        flattened_listt.append(flattened.tolist())\n",
    "ftry = np.array(flattened_listt).reshape(-1,1)\n",
    "print(len(ftry))"
   ]
  },
  {
   "cell_type": "code",
   "execution_count": null,
   "metadata": {},
   "outputs": [],
   "source": [
    "def flatten(listin):\n",
    "    flattened_list = []\n",
    "    for index in range(len(listin)):\n",
    "        for pixel in range(256): \n",
    "            flattened = listin[index][pixel].flatten()\n",
    "            flattened_list.append(flattened.tolist())\n",
    "    return flattened_list"
   ]
  },
  {
   "cell_type": "code",
   "execution_count": null,
   "metadata": {},
   "outputs": [],
   "source": [
    "FlatInput = np.array(flatten(Input)).reshape(-1,1)\n",
    "FlatRadar = np.array(flatten(image_listB1)).reshape(-1,1)\n",
    "print(len(FlatRadar))\n",
    "print(len(FlatInput))\n",
    "print(FlatInput[1024])\n",
    "print(FlatRadar[1024])"
   ]
  },
  {
   "cell_type": "code",
   "execution_count": null,
   "metadata": {
    "scrolled": true
   },
   "outputs": [],
   "source": [
    "'''\n",
    "Linear Regression\n",
    "'''\n",
    "train_x = FlatInput[:-58368]\n",
    "train_y = FlatRadar[:-58368]\n",
    "test_x = FlatInput[-58368:]\n",
    "test_y = Test[-58368:]\n",
    "\n",
    "regr = linear_model.LinearRegression(normalize=False)\n",
    "\n",
    "# Train the model using the training sets\n",
    "regr.fit(train_x, train_y)\n",
    "\n",
    "# Make predictions using the testing set\n",
    "y_pred = regr.predict(test_x)\n",
    "\n",
    "# The coefficients\n",
    "print('Coefficients: \\n', regr.coef_)\n",
    "# The mean squared error\n",
    "print(\"Mean squared error: %.2f\"\n",
    "      % mean_squared_error(test_y, y_pred))\n",
    "print(\"Calculated mean squared error\", np.mean(y_pred - test_y)**2)\n",
    "# Explained variance score: 1 is perfect prediction\n",
    "print('Variance score: %.2f' % r2_score(test_y, y_pred))\n",
    "print('Intercept: ', regr.intercept_)\n",
    "# Plot outputs\n",
    "plt.scatter(test_x, test_y,  color='black')\n",
    "plt.plot(test_x, y_pred, color='blue', linewidth=3)\n",
    "\n",
    "plt.xticks(())\n",
    "plt.yticks(())\n",
    "\n",
    "plt.show()"
   ]
  },
  {
   "cell_type": "code",
   "execution_count": 34,
   "metadata": {},
   "outputs": [
    {
     "name": "stdout",
     "output_type": "stream",
     "text": [
      "Coefficients: \n",
      " [ 0.00658671 -0.04822761 -0.05972578 -0.00197233  0.00765351 -0.00489003]\n",
      "Mean squared error: 106.34\n",
      "Calculated mean squared error 1.1012530163773546\n",
      "Variance score: 0.03\n",
      "Intercept:  23.999517756175344\n"
     ]
    }
   ],
   "source": [
    "'''\n",
    "Linear Regression\n",
    "'''\n",
    "train_x = Inputs[:-65536]\n",
    "train_y = Radar[:-65536]\n",
    "test_x = Inputs[-65536:]\n",
    "test_y = Test[-65536:]\n",
    "regr = linear_model.LinearRegression(normalize=False)\n",
    "\n",
    "# Train the model using the training sets\n",
    "regr.fit(train_x, train_y)\n",
    "\n",
    "# Make predictions using the testing set\n",
    "y_pred = regr.predict(test_x)\n",
    "\n",
    "# The coefficients\n",
    "print('Coefficients: \\n', regr.coef_)\n",
    "# The mean squared error\n",
    "print(\"Mean squared error: %.2f\"\n",
    "      % mean_squared_error(test_y, y_pred))\n",
    "print(\"Calculated mean squared error\", np.mean(y_pred - test_y)**2)\n",
    "# Explained variance score: 1 is perfect prediction\n",
    "print('Variance score: %.2f' % r2_score(test_y, y_pred))\n",
    "print('Intercept: ', regr.intercept_)"
   ]
  },
  {
   "cell_type": "code",
   "execution_count": null,
   "metadata": {},
   "outputs": [],
   "source": [
    "# Plot outputs\n",
    "plt.scatter(test_x, test_y,  color='black')\n",
    "plt.plot(test_x, y_pred, color='blue', linewidth=3)\n",
    "\n",
    "plt.xticks(())\n",
    "plt.yticks(())\n",
    "\n",
    "plt.show()"
   ]
  },
  {
   "cell_type": "code",
   "execution_count": 26,
   "metadata": {},
   "outputs": [],
   "source": [
    "y_pred2 = regr.predict(Inputs[-131072:-65536])\n",
    "y_test2 = Test[-131072:-65536]"
   ]
  },
  {
   "cell_type": "code",
   "execution_count": 27,
   "metadata": {},
   "outputs": [
    {
     "data": {
      "image/png": "[encoded data removed]",
      "text/plain": [
       "<matplotlib.figure.Figure at 0x10b8db7f0>"
      ]
     },
     "metadata": {
      "needs_background": "light"
     },
     "output_type": "display_data"
    }
   ],
   "source": [
    "plt.imshow(y_pred2.reshape(256, 256), cmap='gray')\n",
    "plt.show()"
   ]
  },
  {
   "cell_type": "code",
   "execution_count": 28,
   "metadata": {},
   "outputs": [
    {
     "data": {
      "image/png": "[encoded data removed]",
      "text/plain": [
       "<matplotlib.figure.Figure at 0x1c251cd390>"
      ]
     },
     "metadata": {
      "needs_background": "light"
     },
     "output_type": "display_data"
    }
   ],
   "source": [
    "plt.imshow(y_test2.reshape(256, 256), cmap='gray')\n",
    "plt.show()"
   ]
  },
  {
   "cell_type": "code",
   "execution_count": 13,
   "metadata": {},
   "outputs": [
    {
     "name": "stdout",
     "output_type": "stream",
     "text": [
      "393216\n",
      "65536\n"
     ]
    }
   ],
   "source": [
    "print(test_x.size)\n",
    "print(test_y.size)"
   ]
  },
  {
   "cell_type": "code",
   "execution_count": 14,
   "metadata": {},
   "outputs": [
    {
     "data": {
      "image/png": "[encoded data removed]",
      "text/plain": [
       "<matplotlib.figure.Figure at 0x1176c6cc0>"
      ]
     },
     "metadata": {
      "needs_background": "light"
     },
     "output_type": "display_data"
    }
   ],
   "source": [
    "resh = np.array(image_listA1).reshape(-1,1)\n",
    "plt.imshow(resh[-65536:].reshape(256, 256), cmap='gray')\n",
    "plt.show()"
   ]
  },
  {
   "cell_type": "code",
   "execution_count": null,
   "metadata": {},
   "outputs": [],
   "source": [
    "resh = np.array(image_listA2).reshape(-1,1)\n",
    "plt.imshow(resh[-65536:].reshape(256, 256), cmap='gray')\n",
    "plt.show()"
   ]
  },
  {
   "cell_type": "code",
   "execution_count": null,
   "metadata": {},
   "outputs": [],
   "source": [
    "resh = np.array(image_listA3).reshape(-1,1)\n",
    "plt.imshow(resh[-65536:].reshape(256, 256), cmap='gray')\n",
    "plt.show()"
   ]
  },
  {
   "cell_type": "code",
   "execution_count": null,
   "metadata": {},
   "outputs": [],
   "source": [
    "resh = np.array(image_listA4).reshape(-1,1)\n",
    "plt.imshow(resh[-65536:].reshape(256, 256), cmap='gray')\n",
    "plt.show()"
   ]
  },
  {
   "cell_type": "code",
   "execution_count": null,
   "metadata": {},
   "outputs": [],
   "source": [
    "resh = np.array(image_listA5).reshape(-1,1)\n",
    "plt.imshow(resh[-65536:].reshape(256, 256), cmap='gray')\n",
    "plt.show()"
   ]
  },
  {
   "cell_type": "code",
   "execution_count": null,
   "metadata": {},
   "outputs": [],
   "source": [
    "resh = np.array(image_listA6).reshape(-1,1)\n",
    "plt.imshow(resh[-65536:].reshape(256, 256), cmap='gray')\n",
    "plt.show()"
   ]
  },
  {
   "cell_type": "code",
   "execution_count": null,
   "metadata": {
    "scrolled": true
   },
   "outputs": [],
   "source": [
    "plt.imshow(y_pred.reshape(256, 256), cmap='gray')\n",
    "plt.show()"
   ]
  },
  {
   "cell_type": "code",
   "execution_count": null,
   "metadata": {},
   "outputs": [],
   "source": [
    "plt.imshow(test_y.reshape(256, 256), cmap='gray')\n",
    "plt.show()"
   ]
  },
  {
   "cell_type": "code",
   "execution_count": 15,
   "metadata": {},
   "outputs": [],
   "source": [
    "input_names = [\"Sat Band 2\",\"Sat Band 6\",\"Mod Visibility Feature\",\"Mod Relative Humidity Feature\",\"Mod Specific Humidty Feature\",\"Mod Temperature at the surface Feature\"]\n",
    "X_names = np.asarray(input_names)"
   ]
  },
  {
   "cell_type": "code",
   "execution_count": 16,
   "metadata": {},
   "outputs": [
    {
     "data": {
      "text/plain": [
       "array([ 0.00658671, -0.04822761, -0.05972578, -0.00197233,  0.00765351,\n",
       "       -0.00489003])"
      ]
     },
     "execution_count": 16,
     "metadata": {},
     "output_type": "execute_result"
    }
   ],
   "source": [
    "regr.coef_"
   ]
  },
  {
   "cell_type": "code",
   "execution_count": 17,
   "metadata": {},
   "outputs": [
    {
     "name": "stdout",
     "output_type": "stream",
     "text": [
      "Sat Band 2       0.006586711492964128\n",
      "Sat Band 6       -0.04822761350660772\n",
      "Mod Visibility Feature       -0.05972577518858085\n",
      "Mod Relative Humidity Feature       -0.001972327680450401\n",
      "Mod Specific Humidty Feature       0.007653508527873743\n",
      "Mod Temperature at the surface Feature       -0.0048900269513936995\n"
     ]
    }
   ],
   "source": [
    "for feat, coef in zip(X_names, regr.coef_):\n",
    "    print('{}       {}'.format(feat, coef))"
   ]
  },
  {
   "cell_type": "code",
   "execution_count": 18,
   "metadata": {},
   "outputs": [],
   "source": [
    "df = pd.DataFrame({'Features':input_names, 'coeff':abs(regr.coef_)})"
   ]
  },
  {
   "cell_type": "code",
   "execution_count": 19,
   "metadata": {},
   "outputs": [
    {
     "data": {
      "image/png": "[encoded data removed]",
      "text/plain": [
       "<matplotlib.figure.Figure at 0x1176eca58>"
      ]
     },
     "metadata": {
      "needs_background": "light"
     },
     "output_type": "display_data"
    }
   ],
   "source": [
    "df.plot.bar(x='Features', y='coeff',rot=90, color=(\"g\"))\n",
    "plt.show()"
   ]
  },
  {
   "cell_type": "code",
   "execution_count": 20,
   "metadata": {},
   "outputs": [],
   "source": [
    "Output = y_pred.reshape(256, 256)\n",
    "Original = test_y.reshape(256, 256)"
   ]
  },
  {
   "cell_type": "code",
   "execution_count": 21,
   "metadata": {},
   "outputs": [],
   "source": [
    "th1 = cv2.threshold(Output,15,255,cv2.THRESH_BINARY)\n",
    "th2 = cv2.threshold(Original,15,255,cv2.THRESH_BINARY)\n",
    "FR = list(th1[1].flatten())\n",
    "FF = list(th2[1].flatten())"
   ]
  },
  {
   "cell_type": "code",
   "execution_count": null,
   "metadata": {},
   "outputs": [],
   "source": [
    "tn,fp,fn,tp=confusion_matrix(FR, FF).ravel()\n",
    "print(tn,fp,fn,tp)"
   ]
  },
  {
   "cell_type": "code",
   "execution_count": null,
   "metadata": {
    "scrolled": true
   },
   "outputs": [],
   "source": [
    "plt.imshow(th1[1],cmap = 'gray')\n",
    "plt.show()"
   ]
  },
  {
   "cell_type": "code",
   "execution_count": null,
   "metadata": {},
   "outputs": [],
   "source": [
    "plt.imshow(th2[1],cmap = 'gray')\n",
    "plt.show()"
   ]
  },
  {
   "cell_type": "code",
   "execution_count": null,
   "metadata": {},
   "outputs": [],
   "source": [
    "Total = tn+fp+fn+tp\n",
    "print(Total)"
   ]
  },
  {
   "cell_type": "code",
   "execution_count": null,
   "metadata": {},
   "outputs": [],
   "source": [
    "PTN = (tn/Total)*100\n",
    "PFP = (fp/Total)*100\n",
    "PFN = (fn/Total)*100\n",
    "PTP = (tp/Total)*100"
   ]
  },
  {
   "cell_type": "code",
   "execution_count": null,
   "metadata": {},
   "outputs": [],
   "source": [
    "print(PTN,PFP,PFN,PTP)"
   ]
  },
  {
   "cell_type": "code",
   "execution_count": null,
   "metadata": {},
   "outputs": [],
   "source": [
    "Correct = PTN + PTP\n",
    "Wrong = PFN + PFP\n",
    "print(\"Correct = \", Correct, \" Wrong = \", Wrong)"
   ]
  },
  {
   "cell_type": "code",
   "execution_count": null,
   "metadata": {},
   "outputs": [],
   "source": [
    "import seaborn as sn\n",
    "import pandas as pd\n",
    "import matplotlib.pyplot as plt\n",
    "\n",
    "array = [[PTN,PFP],\n",
    "        [PFN,PTP]]        \n",
    "df_cm = pd.DataFrame(array, range(2),\n",
    "                  range(2))\n",
    "sn.set(font_scale=1.4)#for label size\n",
    "sn.heatmap(df_cm, annot=True,annot_kws={\"size\": 16})# font size"
   ]
  },
  {
   "cell_type": "code",
   "execution_count": null,
   "metadata": {},
   "outputs": [],
   "source": [
    "NN = fn+tn\n",
    "NP = fp+tp"
   ]
  },
  {
   "cell_type": "code",
   "execution_count": null,
   "metadata": {},
   "outputs": [],
   "source": [
    "NPTN = (tn/NN)\n",
    "NPFP = (fp/NP)\n",
    "NPFN = (fn/NN)\n",
    "NPTP = (tp/NP)"
   ]
  },
  {
   "cell_type": "code",
   "execution_count": null,
   "metadata": {},
   "outputs": [],
   "source": [
    "print(NPFN)"
   ]
  },
  {
   "cell_type": "code",
   "execution_count": null,
   "metadata": {},
   "outputs": [],
   "source": [
    "array = [[NPTN,NPFP],[NPFN,NPTP]]        \n",
    "df_cm = pd.DataFrame(array, range(2),\n",
    "                  range(2))\n",
    "sn.set(font_scale=1.4)#for label size\n",
    "sn.heatmap(df_cm, annot=True,annot_kws={\"size\": 16})# font size"
   ]
  },
  {
   "cell_type": "code",
   "execution_count": null,
   "metadata": {},
   "outputs": [],
   "source": [
    "array = [[NPTP,NPFP],[NPFN,NPTN]]        \n",
    "df_cm = pd.DataFrame(array, range(2),\n",
    "                  range(2))\n",
    "sn.set(font_scale=1.4)#for label size\n",
    "sn.heatmap(df_cm, annot=True,annot_kws={\"size\": 16})# font size"
   ]
  },
  {
   "cell_type": "markdown",
   "metadata": {},
   "source": [
    "# Checking different thresholds "
   ]
  },
  {
   "cell_type": "code",
   "execution_count": null,
   "metadata": {},
   "outputs": [],
   "source": [
    "TC = []\n",
    "for i in range(1,21):\n",
    "    th1 = cv2.threshold(Output,i,255,cv2.THRESH_BINARY)\n",
    "    th2 = cv2.threshold(Original,i,255,cv2.THRESH_BINARY)\n",
    "    FR = list(th1[1].flatten())\n",
    "    FF = list(th2[1].flatten())\n",
    "    tn,fp,fn,tp=confusion_matrix(FR, FF).ravel()\n",
    "    TC.append([tn,fp,fn,tp])"
   ]
  },
  {
   "cell_type": "code",
   "execution_count": null,
   "metadata": {},
   "outputs": [],
   "source": [
    "print(len(TC))\n",
    "print(TC)"
   ]
  },
  {
   "cell_type": "code",
   "execution_count": null,
   "metadata": {},
   "outputs": [],
   "source": [
    "PTC = []\n",
    "for i in range(20):\n",
    "    Total = TC[i][0]+TC[i][1]+TC[i][2]+TC[i][3]\n",
    "    PTN = (TC[i][0]/Total)*100\n",
    "    PFP = (TC[i][1]/Total)*100\n",
    "    PFN = (TC[i][2]/Total)*100\n",
    "    PTP = (TC[i][3]/Total)*100\n",
    "    PTC.append([PTN,PFP,PFN,PTP])"
   ]
  },
  {
   "cell_type": "code",
   "execution_count": null,
   "metadata": {},
   "outputs": [],
   "source": [
    "print(len(PTC))\n",
    "print(PTC)"
   ]
  },
  {
   "cell_type": "code",
   "execution_count": null,
   "metadata": {},
   "outputs": [],
   "source": [
    "import seaborn as sn\n",
    "import pandas as pd\n",
    "import matplotlib.pyplot as plt\n",
    "\n",
    "array = [[PTN,PFN],\n",
    "        [PFP,PTP]]        \n",
    "df_cm = pd.DataFrame(array, range(2),\n",
    "                  range(2))\n",
    "sn.set(font_scale=1.4)#for label size\n",
    "sn.heatmap(df_cm, annot=True,annot_kws={\"size\": 16})# font size"
   ]
  },
  {
   "cell_type": "markdown",
   "metadata": {},
   "source": [
    "# Getting different outputs"
   ]
  },
  {
   "cell_type": "code",
   "execution_count": 128,
   "metadata": {},
   "outputs": [],
   "source": [
    "y_pred2 = regr.predict(Inputs[-65536*51:-65536*50])\n",
    "y_test2 = Test[-65536*51:-65536*50]"
   ]
  },
  {
   "cell_type": "code",
   "execution_count": 129,
   "metadata": {},
   "outputs": [
    {
     "data": {
      "image/png": "[encoded data removed]",
      "text/plain": [
       "<matplotlib.figure.Figure at 0x1c1af592b0>"
      ]
     },
     "metadata": {
      "needs_background": "light"
     },
     "output_type": "display_data"
    }
   ],
   "source": [
    "plt.imshow(y_pred2.reshape(256, 256), cmap='gray')\n",
    "plt.show()"
   ]
  },
  {
   "cell_type": "code",
   "execution_count": 130,
   "metadata": {},
   "outputs": [
    {
     "data": {
      "image/png": "[encoded data removed]",
      "text/plain": [
       "<matplotlib.figure.Figure at 0x1c1b0ed358>"
      ]
     },
     "metadata": {
      "needs_background": "light"
     },
     "output_type": "display_data"
    }
   ],
   "source": [
    "plt.imshow(y_test2.reshape(256, 256), cmap='gray')\n",
    "plt.show()"
   ]
  },
  {
   "cell_type": "code",
   "execution_count": 135,
   "metadata": {},
   "outputs": [],
   "source": [
    "Output = y_pred2.reshape(256, 256)\n",
    "Original = y_test2.reshape(256, 256)"
   ]
  },
  {
   "cell_type": "code",
   "execution_count": 145,
   "metadata": {},
   "outputs": [],
   "source": [
    "th1 = cv2.threshold(Output,1,255,cv2.THRESH_BINARY)\n",
    "th2 = cv2.threshold(Original,1,255,cv2.THRESH_BINARY)"
   ]
  },
  {
   "cell_type": "code",
   "execution_count": 146,
   "metadata": {},
   "outputs": [
    {
     "data": {
      "image/png": "[encoded data removed]",
      "text/plain": [
       "<matplotlib.figure.Figure at 0x1c1ba2e390>"
      ]
     },
     "metadata": {
      "needs_background": "light"
     },
     "output_type": "display_data"
    }
   ],
   "source": [
    "plt.imshow(th1[1],cmap = 'gray')\n",
    "plt.show()"
   ]
  },
  {
   "cell_type": "code",
   "execution_count": 147,
   "metadata": {},
   "outputs": [
    {
     "data": {
      "image/png": "[encoded data removed]",
      "text/plain": [
       "<matplotlib.figure.Figure at 0x1c1cde1630>"
      ]
     },
     "metadata": {
      "needs_background": "light"
     },
     "output_type": "display_data"
    }
   ],
   "source": [
    "plt.imshow(th2[1],cmap = 'gray')\n",
    "plt.show()"
   ]
  },
  {
   "cell_type": "code",
   "execution_count": 93,
   "metadata": {},
   "outputs": [
    {
     "name": "stdout",
     "output_type": "stream",
     "text": [
      "62613 2018 400 505\n"
     ]
    }
   ],
   "source": [
    "tn,fp,fn,tp=confusion_matrix(FR, FF).ravel()\n",
    "print(tn,fp,fn,tp)"
   ]
  },
  {
   "cell_type": "code",
   "execution_count": 94,
   "metadata": {},
   "outputs": [],
   "source": [
    "TN = TN + tn\n",
    "FP = FP + fp\n",
    "FN = FN + fn\n",
    "TP = TP + tp"
   ]
  },
  {
   "cell_type": "code",
   "execution_count": 95,
   "metadata": {},
   "outputs": [],
   "source": [
    "TN1,FP1,FN1,TP1 = 0,0,0,0"
   ]
  },
  {
   "cell_type": "code",
   "execution_count": 98,
   "metadata": {},
   "outputs": [],
   "source": [
    "for i in range(1,56):\n",
    "    y_pred2 = regr.predict(Inputs[-65536*(i+1):-65536*i])\n",
    "    y_test2 = Radar[-65536*(i+1):-65536*i]\n",
    "    Output = y_pred2.reshape(256, 256)\n",
    "    Original = y_test2.reshape(256, 256)\n",
    "    th1 = cv2.threshold(Output,15,255,cv2.THRESH_BINARY)\n",
    "    th2 = cv2.threshold(Original,15,255,cv2.THRESH_BINARY)\n",
    "    FR = list(th1[1].flatten())\n",
    "    FF = list(th2[1].flatten())\n",
    "    tn,fp,fn,tp=confusion_matrix(FR, FF).ravel()\n",
    "    TN1 = TN1 + tn\n",
    "    FP1 = FP1 + fp\n",
    "    FN1 = FN1 + fn\n",
    "    TP1 = TP1 + tp"
   ]
  },
  {
   "cell_type": "code",
   "execution_count": 99,
   "metadata": {},
   "outputs": [
    {
     "name": "stdout",
     "output_type": "stream",
     "text": [
      "3395601 87920 65426 55533\n"
     ]
    }
   ],
   "source": [
    "print(TN1,FP1,FN1,TP1)"
   ]
  },
  {
   "cell_type": "code",
   "execution_count": 100,
   "metadata": {},
   "outputs": [],
   "source": [
    "Total1 = TN1+FP1+FN1+TP1"
   ]
  },
  {
   "cell_type": "code",
   "execution_count": 102,
   "metadata": {},
   "outputs": [
    {
     "name": "stdout",
     "output_type": "stream",
     "text": [
      "95.74568314985795\n"
     ]
    }
   ],
   "source": [
    "Correct = (TN1/Total1 + TP1/Total1)*100\n",
    "print(Correct)"
   ]
  },
  {
   "cell_type": "code",
   "execution_count": 104,
   "metadata": {},
   "outputs": [],
   "source": [
    "TN2,FP2,FN2,TP2 = 0,0,0,0\n",
    "for i in range(1,56):\n",
    "    y_pred2 = regr.predict(Inputs[-65536*(i+1):-65536*i])\n",
    "    y_test2 = Radar[-65536*(i+1):-65536*i]\n",
    "    Output = y_pred2.reshape(256, 256)\n",
    "    Original = y_test2.reshape(256, 256)\n",
    "    th1 = cv2.threshold(Output,1,255,cv2.THRESH_BINARY)\n",
    "    th2 = cv2.threshold(Original,1,255,cv2.THRESH_BINARY)\n",
    "    FR = list(th1[1].flatten())\n",
    "    FF = list(th2[1].flatten())\n",
    "    tn,fp,fn,tp=confusion_matrix(FR, FF).ravel()\n",
    "    TN2 = TN2 + tn\n",
    "    FP2 = FP2 + fp\n",
    "    FN2 = FN2 + fn\n",
    "    TP2 = TP2 + tp"
   ]
  },
  {
   "cell_type": "code",
   "execution_count": 105,
   "metadata": {},
   "outputs": [],
   "source": [
    "Total2 = TN2+FP2+FN2+TP2"
   ]
  },
  {
   "cell_type": "code",
   "execution_count": 106,
   "metadata": {},
   "outputs": [
    {
     "name": "stdout",
     "output_type": "stream",
     "text": [
      "66.35717218572444\n"
     ]
    }
   ],
   "source": [
    "Correct = (TN2/Total2 + TP2/Total2)*100\n",
    "print(Correct)"
   ]
  },
  {
   "cell_type": "code",
   "execution_count": null,
   "metadata": {},
   "outputs": [],
   "source": []
  }
 ],
 "metadata": {
  "kernelspec": {
   "display_name": "Python 3",
   "language": "python",
   "name": "python3"
  },
  "language_info": {
   "codemirror_mode": {
    "name": "ipython",
    "version": 3
   },
   "file_extension": ".py",
   "mimetype": "text/x-python",
   "name": "python",
   "nbconvert_exporter": "python",
   "pygments_lexer": "ipython3",
   "version": "3.6.3"
  }
 },
 "nbformat": 4,
 "nbformat_minor": 2
}
